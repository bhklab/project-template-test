{
 "cells": [
  {
   "cell_type": "markdown",
   "id": "442beff9",
   "metadata": {},
   "source": [
    "# Example Notebook\n",
    "\n",
    "This is just a quick example showing how to use the template."
   ]
  },
  {
   "cell_type": "code",
   "execution_count": 4,
   "id": "75fde9f9",
   "metadata": {},
   "outputs": [],
   "source": [
    "import logging\n",
    "\n",
    "logging.basicConfig(\n",
    "\tlevel=logging.INFO, format='%(asctime)s - %(levelname)s - %(message)s'\n",
    ")\n",
    "\n",
    "logger = logging.getLogger(__name__)"
   ]
  },
  {
   "cell_type": "markdown",
   "id": "dcd6a117",
   "metadata": {},
   "source": [
    "## Show tree of the DMP directories"
   ]
  },
  {
   "cell_type": "code",
   "execution_count": 5,
   "id": "2d08bd5d",
   "metadata": {},
   "outputs": [
    {
     "name": "stdout",
     "output_type": "stream",
     "text": [
      "DamplyDirs<Structure: NESTED>\n",
      "Project Root: /Users/bhklab/TRASH/test-project-template\n",
      "CONFIG       : ├── config\n",
      "LOGS         : ├── logs\n",
      "METADATA     : ├── metadata\n",
      "NOTEBOOKS    : ├── workflow/notebooks\n",
      "PROCDATA     : ├── data/procdata\n",
      "RAWDATA      : ├── data/rawdata\n",
      "RESULTS      : ├── data/results\n",
      "SCRIPTS      : └── workflow/scripts\n"
     ]
    }
   ],
   "source": [
    "from damply import dirs as dmpdirs\n",
    "\n",
    "print(dmpdirs)"
   ]
  },
  {
   "cell_type": "markdown",
   "id": "b8151039",
   "metadata": {},
   "source": [
    "## Use the DMP `dmpdirs` object directly"
   ]
  },
  {
   "cell_type": "code",
   "execution_count": 6,
   "id": "ac1f9617",
   "metadata": {},
   "outputs": [
    {
     "name": "stdout",
     "output_type": "stream",
     "text": [
      "dmpdirs.RAWDATA=PosixPath('/Users/bhklab/TRASH/test-project-template/data/rawdata') has 1 files\n",
      "dmpdirs.PROCDATA=PosixPath('/Users/bhklab/TRASH/test-project-template/data/procdata') has 1 files\n",
      "dmpdirs.SCRIPTS=PosixPath('/Users/bhklab/TRASH/test-project-template/workflow/scripts') has 2 files\n"
     ]
    }
   ],
   "source": [
    "print(f'{dmpdirs.RAWDATA=} has {len(list(dmpdirs.RAWDATA.glob(\"*\")))} files')\n",
    "print(f'{dmpdirs.PROCDATA=} has {len(list(dmpdirs.PROCDATA.glob(\"*\")))} files')\n",
    "print(f'{dmpdirs.SCRIPTS=} has {len(list(dmpdirs.SCRIPTS.glob(\"*\")))} files')"
   ]
  }
 ],
 "metadata": {
  "kernelspec": {
   "display_name": "default",
   "language": "python",
   "name": "python3"
  },
  "language_info": {
   "codemirror_mode": {
    "name": "ipython",
    "version": 3
   },
   "file_extension": ".py",
   "mimetype": "text/x-python",
   "name": "python",
   "nbconvert_exporter": "python",
   "pygments_lexer": "ipython3",
   "version": "3.13.3"
  }
 },
 "nbformat": 4,
 "nbformat_minor": 5
}
